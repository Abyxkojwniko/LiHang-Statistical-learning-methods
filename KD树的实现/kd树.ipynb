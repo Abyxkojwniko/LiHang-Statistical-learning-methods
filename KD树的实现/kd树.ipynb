{
 "cells": [
  {
   "cell_type": "code",
   "execution_count": 17,
   "metadata": {},
   "outputs": [
    {
     "data": {
      "image/png": "[encoded data removed]",
      "text/plain": [
       "<Figure size 640x480 with 1 Axes>"
      ]
     },
     "metadata": {},
     "output_type": "display_data"
    }
   ],
   "source": [
    "import numpy as np\n",
    "import heapq\n",
    "\n",
    "\n",
    "class Node:\n",
    "    def __init__(self, data, sp=0, left=None, right=None):\n",
    "        self.data = data\n",
    "        self.sp = sp\n",
    "        self.left = left\n",
    "        self.right = right\n",
    "\n",
    "\n",
    "class KDTree:\n",
    "    def __init__(self, data):\n",
    "        k = data.shape[1]\n",
    "        def create(dataset, sp):\n",
    "            if len(dataset) == 0:\n",
    "                return None\n",
    "            # sort by current dimension\n",
    "            dataset = sorted(dataset, key=lambda x: x[sp])\n",
    "            mid = len(dataset)//2\n",
    "            # split by the median\n",
    "            dat = dataset[mid]\n",
    "            return Node(dat, sp, create(dataset[:mid], (sp+1) % k),\\\n",
    "                                 create(dataset[mid+1:], (sp+1) % k))\n",
    "        self.root = create(data, 0)\n",
    "\n",
    "    def nearest(self, x, near_k=1, p=2):\n",
    "        # use the max heap builtin library heapq\n",
    "        # init the elements with -inf, and use the minus distance for comparison\n",
    "        # the top of the max heap is the min distance.\n",
    "        self.knn = [(-np.inf, None)]*near_k\n",
    "        def visit(node):\n",
    "            if not node == None:\n",
    "                # cal the distance to the split point, i.e. the hyperplane\n",
    "                dis = x[node.sp] - node.data[node.sp]\n",
    "                # visit the child node recursively\n",
    "                # if returned, we get the current nearest point\n",
    "                visit(node.left if dis < 0 else node.right)\n",
    "                # cal the distance to the current nearest point\n",
    "                curr_dis = np.linalg.norm(x-node.data, p)\n",
    "                # push the minus distance to the heap\n",
    "                heapq.heappushpop(self.knn, (-curr_dis, node))\n",
    "                # compare the distance to the hyperplane with the min distance\n",
    "                # if less, visit another node.\n",
    "                if -(self.knn[0][0]) > abs(dis):\n",
    "                    visit(node.right if dis < 0 else node.left)\n",
    "        visit(self.root)\n",
    "        self.knn = np.array(\n",
    "            [i[1].data for i in heapq.nlargest(near_k, self.knn)])\n",
    "        return self.knn\n",
    "\n",
    "\n",
    "if __name__ == \"__main__\":\n",
    "    from pylab import *\n",
    "    data = array([[2, 3], [5, 4], [9, 6], [4, 7], [8, 1], [7, 2]])\n",
    "    kdtree = KDTree(data)\n",
    "    target = array([7.5, 3])\n",
    "    kdtree.nearest(target, 2)\n",
    "    plot(*data.T, 'o')\n",
    "    plot(*target.T, '.r')\n",
    "    plot(*kdtree.knn.T, 'r+')\n",
    "    show()"
   ]
  }
 ],
 "metadata": {
  "kernelspec": {
   "display_name": ".conda",
   "language": "python",
   "name": "python3"
  },
  "language_info": {
   "codemirror_mode": {
    "name": "ipython",
    "version": 3
   },
   "file_extension": ".py",
   "mimetype": "text/x-python",
   "name": "python",
   "nbconvert_exporter": "python",
   "pygments_lexer": "ipython3",
   "version": "3.10.14"
  }
 },
 "nbformat": 4,
 "nbformat_minor": 2
}
