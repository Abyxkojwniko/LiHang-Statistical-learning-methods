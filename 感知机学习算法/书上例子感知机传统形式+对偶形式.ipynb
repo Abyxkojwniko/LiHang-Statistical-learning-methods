{
 "cells": [
  {
   "cell_type": "code",
   "execution_count": 1,
   "metadata": {},
   "outputs": [],
   "source": [
    "import numpy as np\n",
    "import matplotlib as plt"
   ]
  },
  {
   "cell_type": "code",
   "execution_count": 2,
   "metadata": {},
   "outputs": [
    {
     "name": "stdout",
     "output_type": "stream",
     "text": [
      "[[3 3]\n",
      " [1 1]\n",
      " [3 4]] [ 1 -1  1]\n"
     ]
    }
   ],
   "source": [
    "x=np.array([[3,3],[1,1],[3,4]])\n",
    "y=np.array([1,-1,1])\n",
    "print(x,y)"
   ]
  },
  {
   "cell_type": "code",
   "execution_count": 3,
   "metadata": {},
   "outputs": [],
   "source": [
    "w=np.array([0,0])\n",
    "b=0\n",
    "learning_rate=1"
   ]
  },
  {
   "cell_type": "code",
   "execution_count": 4,
   "metadata": {},
   "outputs": [],
   "source": [
    "def update(x,y,w,b,i):\n",
    "    w=w+learning_rate*y[i]*x[i]\n",
    "    b=b+learning_rate*y[i]\n",
    "    return w,b"
   ]
  },
  {
   "cell_type": "code",
   "execution_count": 5,
   "metadata": {},
   "outputs": [],
   "source": [
    "def judge(x,y,w,b):\n",
    "    flag=False\n",
    "    count=0\n",
    "    mis_index=0\n",
    "    for i in range(len(x)):\n",
    "        if y[i]*(np.dot(x[i],w)+b)<=0:\n",
    "            count+=1\n",
    "            mis_index=i\n",
    "            break\n",
    "    if count==0:\n",
    "        flag=True\n",
    "    return flag,mis_index"
   ]
  },
  {
   "cell_type": "code",
   "execution_count": 6,
   "metadata": {},
   "outputs": [
    {
     "name": "stdout",
     "output_type": "stream",
     "text": [
      "第1次循环，w=[3 3]，b=1\n",
      "第2次循环，w=[2 2]，b=0\n",
      "第3次循环，w=[1 1]，b=-1\n",
      "第4次循环，w=[0 0]，b=-2\n",
      "第5次循环，w=[3 3]，b=-1\n",
      "第6次循环，w=[2 2]，b=-2\n",
      "第7次循环，w=[1 1]，b=-3\n",
      "w=[1 1]\n",
      "b=-3\n"
     ]
    }
   ],
   "source": [
    "flag,index=judge(x,y,w,b)\n",
    "i=1\n",
    "while(flag!=True):\n",
    "    w,b=update(x,y,w,b,index)\n",
    "    print(\"第{}次循环，w={}，b={}\".format(i,w,b))\n",
    "    i=i+1\n",
    "    flag,index=judge(x,y,w,b)\n",
    "print(\"w={}\".format(w))\n",
    "print(\"b={}\".format(b))"
   ]
  }
 ],
 "metadata": {
  "kernelspec": {
   "display_name": "learn",
   "language": "python",
   "name": "python3"
  },
  "language_info": {
   "codemirror_mode": {
    "name": "ipython",
    "version": 3
   },
   "file_extension": ".py",
   "mimetype": "text/x-python",
   "name": "python",
   "nbconvert_exporter": "python",
   "pygments_lexer": "ipython3",
   "version": "3.10.14"
  }
 },
 "nbformat": 4,
 "nbformat_minor": 2
}
